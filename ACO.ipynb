{
 "cells": [
  {
   "cell_type": "markdown",
   "metadata": {},
   "source": [
    "# Ant Colony Optimization Problem\n",
    "#### by Vico Wietstock, Jakob Litsch, Alexander Palatnik, Paul Ludwig Branzk and Friedrich Heitzer"
   ]
  },
  {
   "cell_type": "code",
   "execution_count": 9,
   "metadata": {},
   "outputs": [],
   "source": [
    "import numpy as np"
   ]
  },
  {
   "cell_type": "markdown",
   "metadata": {},
   "source": [
    "### Input, Initialization (Friedrich Heitzer)"
   ]
  },
  {
   "cell_type": "code",
   "execution_count": 11,
   "metadata": {},
   "outputs": [
    {
     "name": "stdout",
     "output_type": "stream",
     "text": [
      "Welche benchmark soll laufen? 01manhattan\n",
      "Wieviele Ameisen?10\n"
     ]
    },
    {
     "ename": "NameError",
     "evalue": "name 'main' is not defined",
     "output_type": "error",
     "traceback": [
      "\u001b[1;31m---------------------------------------------------------------------------\u001b[0m",
      "\u001b[1;31mNameError\u001b[0m                                 Traceback (most recent call last)",
      "\u001b[1;32m<ipython-input-11-46e5fe8f3812>\u001b[0m in \u001b[0;36m<module>\u001b[1;34m\u001b[0m\n\u001b[0;32m     31\u001b[0m \u001b[1;33m\u001b[0m\u001b[0m\n\u001b[0;32m     32\u001b[0m \u001b[1;31m# MAAIN\u001b[0m\u001b[1;33m\u001b[0m\u001b[1;33m\u001b[0m\u001b[1;33m\u001b[0m\u001b[0m\n\u001b[1;32m---> 33\u001b[1;33m \u001b[0mprint\u001b[0m\u001b[1;33m(\u001b[0m\u001b[0mmain\u001b[0m\u001b[1;33m(\u001b[0m\u001b[0mdistances\u001b[0m\u001b[1;33m,\u001b[0m \u001b[0mpheromones\u001b[0m\u001b[1;33m,\u001b[0m \u001b[0mcitycount\u001b[0m\u001b[1;33m,\u001b[0m \u001b[0mantcount\u001b[0m\u001b[1;33m,\u001b[0m \u001b[0mevaporize_val\u001b[0m\u001b[1;33m,\u001b[0m \u001b[0mintens_val\u001b[0m\u001b[1;33m,\u001b[0m \u001b[0malpha\u001b[0m\u001b[1;33m,\u001b[0m \u001b[0mbeta\u001b[0m\u001b[1;33m)\u001b[0m\u001b[1;33m)\u001b[0m\u001b[1;33m\u001b[0m\u001b[1;33m\u001b[0m\u001b[0m\n\u001b[0m",
      "\u001b[1;31mNameError\u001b[0m: name 'main' is not defined"
     ]
    }
   ],
   "source": [
    "eingabe = input(\"Welche benchmark soll laufen? \")\n",
    "\n",
    "#Reads the tsp file and creates a nested list out of it\n",
    "liste = []\n",
    "with open(eingabe + \".tsp\") as f:\n",
    "    for line in f:\n",
    "        linelist = line.split(\" \")\n",
    "        linelist = linelist[:-1]\n",
    "        linelist = list(map(int, linelist))\n",
    "        liste.append(linelist)\n",
    "\n",
    "# numpy array for distances between cities\n",
    "distances = np.array(liste)\n",
    "\n",
    "# number of cities\n",
    "citycount = len(liste[0])\n",
    "\n",
    "# Initialization of the pheromones array\n",
    "pheromones = np.ones((citycount, citycount))\n",
    "for i in range(citycount):\n",
    "    pheromones[i][i] = 0\n",
    "\n",
    "antcount_values = [10, 50, 100]\n",
    "\n",
    "evap_values = [0.9, 0.7, 0.5]\n",
    "\n",
    "intens_values = [0.1, 0.3, 0.5]\n",
    "\n",
    "alpha_values = [0, 1, 2]\n",
    "\n",
    "beta_values = [0, 1, 2]\n"
   ]
  },
  {
   "cell_type": "markdown",
   "metadata": {},
   "source": [
    "### Construct Solution (Alexander Palatnik, Jakob Litsch)"
   ]
  },
  {
   "cell_type": "code",
   "execution_count": null,
   "metadata": {},
   "outputs": [],
   "source": [
    "def constructsolution(pval, dval, numbercities, a, b):\n",
    "    cities = []\n",
    "    pos = 0\n",
    "    for city in range(numbercities):\n",
    "            cities.append(computeprob(pos, city, pval, dval, a, b))\n",
    "    while len(cities) > 0:\n",
    "        pos = np.random.choice(len(cities), 1, cities)\n",
    "        chosencities.append(pos)\n",
    "        for city in range(numbercities):\n",
    "            cities[city] = computeprob(pos, city, pval, dval, a, b)\n",
    "        for city in chosencities:\n",
    "            cities[city] = 0\n",
    "    return cities"
   ]
  },
  {
   "cell_type": "code",
   "execution_count": null,
   "metadata": {},
   "outputs": [],
   "source": [
    "def computeprob(pos, city, pval, dval, a, b):\n",
    "    p = (1/computeN(pos, pval, dval))* ((pval[pos, city]^a)/(dval[pos, city]^b))\n",
    "    return p"
   ]
  },
  {
   "cell_type": "code",
   "execution_count": null,
   "metadata": {},
   "outputs": [],
   "source": [
    "def computeN(pos, pval, dval, a, b):\n",
    "    N = 0\n",
    "    for index in range(dval):\n",
    "        N += pval[pos, index]^a/dval[pos, index]^b\n",
    "    return N"
   ]
  },
  {
   "cell_type": "markdown",
   "metadata": {},
   "source": [
    "### Evaluation, Evaporization, Intensification (Friedrich Heitzer, Vico Wietstock)"
   ]
  },
  {
   "cell_type": "code",
   "execution_count": null,
   "metadata": {},
   "outputs": [],
   "source": [
    "# returns distance of the given solution/ant \n",
    "def get_distance(distances, ant):\n",
    "    \n",
    "    distance = 0        \n",
    "    # iterates through cities in the ant and sums up distances \n",
    "    for city, nextcity in zip(ant[:-1], ant[1:]):\n",
    "        distance += distances[city][nextcity]\n",
    "        \n",
    "    return distance"
   ]
  },
  {
   "cell_type": "code",
   "execution_count": 3,
   "metadata": {},
   "outputs": [],
   "source": [
    "# returns the best solution/ant\n",
    "def get_best(ants):\n",
    "    values = []\n",
    "    # Interates through ant population\n",
    "    for ant in ants:\n",
    "        distance = 0\n",
    "        \n",
    "        # double iterates through the cities in the seperate solutions aka ants\n",
    "        for city, nextcity in zip(ant[:-1], ant[1:]):\n",
    "            distance += distances[city][nextcity]\n",
    "        values.append(distance)\n",
    "\n",
    "    # returns the best solution aka ant\n",
    "    return ants[values.index(min(values))]"
   ]
  },
  {
   "cell_type": "code",
   "execution_count": 2,
   "metadata": {},
   "outputs": [],
   "source": [
    "# Evaporization \n",
    "def evaporize(pheromones, evaporize_val):\n",
    "    # evaporize all pheromone values\n",
    "    pheromones *= evaporize_val\n",
    "    \n",
    "    return pheromones"
   ]
  },
  {
   "cell_type": "code",
   "execution_count": 5,
   "metadata": {},
   "outputs": [],
   "source": [
    "# Intensification\n",
    "def intensification(pheromones, intens_val, ants):\n",
    "    # get best solution \n",
    "    best_ant = get_best(ants)\n",
    "    \n",
    "    # intensify values from the best solution\n",
    "    for city, nextcity in zip(best_ant[:-1], best_ant[1:]):\n",
    "        pheromones[city][nextcity] += intens_val\n",
    "        \n",
    "    return pheromones, best_ant"
   ]
  },
  {
   "cell_type": "markdown",
   "metadata": {},
   "source": [
    "### Main (Ludwig Branzk, Vico Wietstock)"
   ]
  },
  {
   "cell_type": "code",
   "execution_count": null,
   "metadata": {},
   "outputs": [],
   "source": [
    "def main(distances, pheromones, citycount, antcount, evaporize_val, intens_val, alpha, beta):\n",
    "    \n",
    "    population = constructsolution(pheromones, distances, citycount, alpha, beta, antcount)\n",
    "    pheromones = evaporization(pheromones, evaporize_val)\n",
    "    pheromones, best_solution = intensification(pheromones, intens_val, population)\n",
    "    \n",
    "    best_distance = get_distance(distances, best_solution)\n",
    "    \n",
    "    counter = 0\n",
    "    \n",
    "    while counter < 50:\n",
    "        population = constructsolution(pheromones, distances, citycount, alpha, beta, antcount)\n",
    "        pheromones = evaporization(pheromones, evaporize_val)\n",
    "        pheromones, best_ant = intensification(pheromones, intens_val, population)\n",
    "        \n",
    "        distance = get_distance(distances, best_ant)\n",
    "        \n",
    "        if distance <= best_distance:\n",
    "            best_solution = best_ant\n",
    "            best_distance = distance\n",
    "            counter = 0\n",
    "        else:\n",
    "            counter += 1\n",
    "        \n",
    "    return best_distance"
   ]
  }
 ],
 "metadata": {
  "kernelspec": {
   "display_name": "Python 3",
   "language": "python",
   "name": "python3"
  },
  "language_info": {
   "codemirror_mode": {
    "name": "ipython",
    "version": 3
   },
   "file_extension": ".py",
   "mimetype": "text/x-python",
   "name": "python",
   "nbconvert_exporter": "python",
   "pygments_lexer": "ipython3",
   "version": "3.7.1"
  }
 },
 "nbformat": 4,
 "nbformat_minor": 2
}
