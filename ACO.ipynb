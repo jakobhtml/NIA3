{
 "cells": [
  {
   "cell_type": "markdown",
   "metadata": {},
   "source": [
    "# Ant Colony Optimization Problem\n",
    "#### by Vico Wietstock, Jakob Litsch, Alexander Palatnik, Paul Ludwig Branzk and Friedrich Heitzer"
   ]
  },
  {
   "cell_type": "code",
   "execution_count": 12,
   "metadata": {},
   "outputs": [],
   "source": [
    "import numpy as np"
   ]
  },
  {
   "cell_type": "markdown",
   "metadata": {},
   "source": [
    "### Input and Initialization of the Distances, Pheromone value, ants and cities matrizes"
   ]
  },
  {
   "cell_type": "code",
   "execution_count": 15,
   "metadata": {},
   "outputs": [
    {
     "name": "stdout",
     "output_type": "stream",
     "text": [
      "Welche benchmark soll laufen? 01manhattan\n",
      "Wieviele Ameisen?10\n"
     ]
    }
   ],
   "source": [
    "eingabe = input(\"Welche benchmark soll laufen? \")\n",
    "\n",
    "#Reads the tsp file and creates a nested list out of it\n",
    "liste = []\n",
    "with open(eingabe + \".tsp\") as f:\n",
    "    for line in f:\n",
    "        linelist = line.split(\" \")\n",
    "        linelist = linelist[:-1]\n",
    "        linelist = list(map(int, linelist))\n",
    "        liste.append(linelist)\n",
    "\n",
    "# nested List --> distances numpy array\n",
    "distances = np.array(liste)\n",
    "\n",
    "# n is the number of cities\n",
    "n = len(liste[0])\n",
    "\n",
    "# Initialization of the pheromones array\n",
    "pheromones = np.ones((n, n))\n",
    "for i in range(n):\n",
    "    pheromones[i][i] = 0\n",
    "\n",
    "# Input of the number of ants and initialization of ants array\n",
    "antcount = int(input(\"Wieviele Ameisen?\"))\n",
    "ants = np.zeros((antcount, n), dtype=int)\n",
    "\n",
    "# Initialization of cities list\n",
    "cities = []"
   ]
  },
  {
   "cell_type": "markdown",
   "metadata": {},
   "source": [
    "### Construct Solution"
   ]
  },
  {
   "cell_type": "code",
   "execution_count": 148,
   "metadata": {},
   "outputs": [],
   "source": [
    "def constructsolution(pval, dval, citycount, a, b, antcount):\n",
    "    solution = np.zeros((antcount, citycount-1), dtype = float)\n",
    "    cities = np.zeros((citycount,), dtype = float)\n",
    "    for ant in range(antcount):\n",
    "        print(ant)\n",
    "        pos = 0\n",
    "        chosencities = np.zeros((citycount,), dtype = float)\n",
    "        chosencities[pos] = 0\n",
    "        N = computeN(pos, pval, dval, a, b, chosencities)\n",
    "        for city in range(citycount):\n",
    "            if(city in chosencities):\n",
    "                cities[city] = 0\n",
    "            else:\n",
    "                cities[city] = computeprob(pos, city, pval, dval, a, b, chosencities, N)\n",
    "        for i in range(citycount-1):\n",
    "            pos = np.random.choice(len(cities),1, p = cities)\n",
    "            chosencities[i+1] = pos\n",
    "            solution[ant, i] = pos\n",
    "            N = computeN(pos, pval, dval, a, b, chosencities)\n",
    "            for city in range(citycount):\n",
    "                if(city in chosencities):\n",
    "                    cities[city] = 0\n",
    "                else:\n",
    "                    cities[city] = computeprob(pos, city, pval, dval, a, b, chosencities, N)\n",
    "            #print(cities)\n",
    "    return solution"
   ]
  },
  {
   "cell_type": "code",
   "execution_count": 149,
   "metadata": {},
   "outputs": [],
   "source": [
    "def computeprob(pos, city, pval, dval, a, b, chosencities, N):\n",
    "    p = (1/N)* ((pval[pos, city]**a)/(dval[pos, city]**b))\n",
    "    return p"
   ]
  },
  {
   "cell_type": "code",
   "execution_count": 150,
   "metadata": {},
   "outputs": [],
   "source": [
    "def computeN(pos, pval, dval, a, b, chosencities):\n",
    "    N = 0\n",
    "    for index in range(len(dval)):\n",
    "        if index not in chosencities:\n",
    "            N += pval[pos, index]**a/dval[pos, index]**b\n",
    "            \n",
    "    return N"
   ]
  },
  {
   "cell_type": "code",
   "execution_count": 151,
   "metadata": {
    "scrolled": true
   },
   "outputs": [
    {
     "name": "stdout",
     "output_type": "stream",
     "text": [
      "0\n",
      "1\n",
      "2\n",
      "3\n",
      "4\n",
      "5\n",
      "6\n",
      "7\n",
      "8\n",
      "9\n"
     ]
    }
   ],
   "source": [
    "alpha = 1\n",
    "beta = 1\n",
    "\n",
    "ants = constructsolution(pheromones, distances, n, alpha, beta, antcount)"
   ]
  },
  {
   "cell_type": "code",
   "execution_count": 152,
   "metadata": {
    "scrolled": false
   },
   "outputs": [
    {
     "name": "stdout",
     "output_type": "stream",
     "text": [
      "[ 85. 122.  63.  46.  77.  48. 111.   4.  41.  98.  68.  44.  73.  92.\n",
      " 129. 138. 123. 124.  53. 116.   3.  22.  69. 118.  80.  90.  78.  62.\n",
      "  74.   5.   9.  16.  37.   6. 126.  65.  17.  81.  30. 137.  43.  54.\n",
      "  89.  94. 104. 112.   7.  29.  71. 133.  39.  57.  75.   2.  95. 113.\n",
      "  59. 140.  50. 125.  32.  79. 114. 117.  14.  87.  27.  15. 135. 121.\n",
      "  23. 146.  55.  24.  66. 128. 143.  49. 139.  72.  12. 127.  56.  42.\n",
      " 142. 110. 107. 103.  25.  86. 109.  45.  96.  26. 120.  82. 106.  19.\n",
      "  93. 115.  35.  83.  38. 144. 119.   8. 102.  60.  31.  67.  91.  76.\n",
      " 130.  70.  52.  28. 134.  88.  10.  47.  58.   1.  11. 101.  51. 136.\n",
      " 149. 148.  61.  20.  13. 145.  18.  84.  99.  40.  36.  21. 131. 100.\n",
      " 141.  64. 105. 132.  34.  33.  97. 108. 147.]\n",
      "[ 75. 119.  73.  19.  41.  12.  69.  13. 103.  37. 113. 144. 124.  94.\n",
      " 143.   8.  98.  20.  92.  78.  35.  66.  87. 147. 132.  27.  25. 138.\n",
      "  93. 114. 112.  57.  53. 136.  36.  32.  38.  18.  42.  45.  55.   6.\n",
      "  59.  26.  56.  31.  82.  96.  10. 133.  68.  85. 109.   2. 117.  83.\n",
      "  58. 122.  86.  61.  91. 115.  17.  89.   7.  72.  65.   4. 137. 149.\n",
      "  43.  11. 135. 120.  15.  47. 104. 116.  95. 102.  63. 107. 110.  40.\n",
      "  99. 131. 111.  33.  77.  23. 101.  64.  50. 121. 125. 146.  48.  16.\n",
      "  97.  81.  54. 100.  60.  28.  76.   5.  88.  70.  21.  80.   1.  29.\n",
      "   3. 105. 139.  71.  22. 118. 127. 106. 145. 129.   9.  79.  84.  74.\n",
      " 148. 134. 130.  52.  39. 126. 123. 140.  49. 142. 108.  30.  34.  67.\n",
      "  90.  46. 141.  62.  24. 128.  44.  51.  14.]\n",
      "[ 66. 107.  90.  86.  74.  29.   5. 114. 101.  79. 147.  11.  32. 137.\n",
      " 116.  47.  36.  20. 113.  21.  53.  82. 119. 104.  30. 111. 128. 117.\n",
      "  24.  17.  95. 139.   1.  16. 100.  39.  63.  83. 124.  73.  72.  12.\n",
      "  54.  68. 126. 123. 140.  41.  51.  96. 129.  70.  25.  91. 130. 131.\n",
      "  52. 138. 110.  45.   6.  18.  67. 133. 125.  46.   8.  35. 145. 134.\n",
      "  28.  99.  76.  60.  75.  40. 146. 136.  77. 109.  44.  65. 102.  80.\n",
      "  92.  94.  89.   9. 142.  34.  87. 103.  78.  27.  57.  84.  33.  50.\n",
      " 121.  10.  55.  71.  93. 115. 106. 143.  22.  98.  59. 148. 105.  48.\n",
      " 112. 120.  26.  23. 149.  97.  14.  61.  13.  42.  38.  81.   3. 118.\n",
      "  64.  49.  58. 141. 127.  31.  19.   7.  15.  69.  85.  37. 135.   4.\n",
      "  56.  62.  88. 122. 144.   2.  43. 108. 132.]\n",
      "[105.   9.  96.   5.  91.  99.  60. 125.  36. 110.  45. 149.  68. 111.\n",
      "  44. 148.  93.  85.  26.  30.  94. 123.   6. 133.  47.  10.  31. 131.\n",
      "  49.  63. 120. 117. 104.  95.  24.  25.  78. 128.  66. 138.  73.  23.\n",
      " 113. 114.   2.  40. 116.  88.  84.  81.  71. 130.  55.  92.  86.  16.\n",
      "  20.  61.  18. 109. 102.  70. 141.  64.  58.  56. 145.  17. 139. 103.\n",
      "  34.  41.  29. 112.  65.  39.  53.   4.  37.  77.  89. 129.  52.  42.\n",
      " 135.  21. 132.  87. 115.  27.  54.  74.  51.  59.  43.  57.  80. 127.\n",
      "   8.  97.  98.  46. 108.  62.  72.  22. 118.  75. 106.   3.  90. 144.\n",
      "  12. 147.  79. 119.  19. 121. 146.  48.  83. 137. 126.  15.  11.   7.\n",
      "  67.  50.  13.  32. 136. 142. 124.  38. 101. 134.  76. 100.  28. 107.\n",
      "  14. 140.  69. 143.   1. 122.  82.  35.  33.]\n",
      "[ 38. 143. 144.  59.  53.  61.  62. 147.  54. 116.  85.  40.  12. 100.\n",
      "  89.  10.  16. 115. 128.  35. 119.   7. 140.  57.  18.  70. 103.  96.\n",
      "  90.   1.  47. 104.  95. 130.  25. 137. 131. 109.  32.  71.  24.  49.\n",
      "  13.  44.  26.  30.  56.  75.  86.  78.   8.  17.  42.  45. 149.  41.\n",
      "  77. 139. 113. 125.  60.  72.  69.   4.  93.  83.  87. 101.  98.  58.\n",
      "  73.  20.  84.   6. 148.  14. 114.   9.   2.  88.  82.  63.  28. 133.\n",
      "  23. 138.  67. 118.  51.  29. 105. 134.  27.  33.  74.  92. 127. 106.\n",
      "  15. 126. 141. 110. 146.  43. 112. 123. 135.  22.  37. 120.  80.  21.\n",
      " 145.  97. 136. 121.  94.  48.  99.  76.  50. 102.  91.  66.  52. 132.\n",
      "  68.  11.  64. 107. 122.  55. 117.   3.  36.  46.  19.  34. 124.  39.\n",
      " 111.  65. 129.   5.  79.  31. 142. 108.  81.]\n",
      "[ 39.  43. 147.  67.  56.  26. 111.  98.  69.  35. 124.  27. 104.  20.\n",
      "  48.  96.  47.  74. 129. 100.  23. 133.  50.  33.  62.  34.  59.  70.\n",
      "  71.  44. 128.  66.  16.  13. 121.  78. 143. 109.  75.  65. 103. 130.\n",
      " 120.  21.  17.   3.   4.  19.  37.   1.  60.  76.  99.  82. 119. 138.\n",
      "  52. 134. 107.  86.  31.  73. 117. 132.  54.  97. 106.   5.   9. 114.\n",
      "  90.  25.  36.  79.  88.  11.   7.  72. 140.  61. 148.  93.  14.   2.\n",
      " 126. 118.  55.   8.  32. 125. 127.  41.  77. 136. 137. 139. 102. 145.\n",
      " 131.  68.  30. 149.  94.  84.  53.  24.  18.  45.  42. 146. 110.  92.\n",
      "  57.  28.  38.  63. 144. 122. 141. 142. 135.  83.  89.  85. 112.  10.\n",
      " 113. 105. 101. 116.   6.  51. 115.  22.  29.  12.  49.  58. 108.  91.\n",
      "  46.  15.  40.  64.  95.  81.  87. 123.  80.]\n",
      "[ 65.  63. 134. 138. 107.  62. 100.  99.  78.  14.  61.  77.   7.  21.\n",
      "  46.  82.  38.  75.  51. 113.  11.  54.  57.  32.  59.  48.  55. 112.\n",
      " 148. 139.  20. 118.  29. 104.   9.  69.  15. 111.  18. 120.  45. 108.\n",
      "  80.  47. 123. 121.  56. 127. 129.  79. 114.  16.  93.   8.  90. 146.\n",
      "  35.  95.  30.  67.  27.  94. 149.  97.  42. 131. 128.  60.   3. 140.\n",
      "  22. 105.  37. 135.  86.  19.  43.  72.  68.  92.  17. 110. 115.  89.\n",
      " 117.  91. 133.  23. 136.   5.  88.  81. 147.  83.  41.  12.  87.  76.\n",
      "  52.  44. 106.  98. 132.  50.  66.  24.  96.  39. 143.  40.  53.  74.\n",
      "  33.  58. 116.   4.  85. 126.   6. 109. 144.  36.  49.  73. 137. 145.\n",
      "  28. 130.  31. 119.  26.  25.  70. 103.  13. 125. 101.  10.  71. 102.\n",
      " 142.  84.   2.  34.  64. 122. 124.   1. 141.]\n",
      "[106.  28.  68. 111.  17. 110.  99.  80.  38.  39. 108. 145. 112. 121.\n",
      "  48.   9.   7.  54.  79.   2.   5.   6. 104. 125.  86. 116.  22.  69.\n",
      "  13.  96.  93.  81.  70. 146.  41.  21. 120.  65.  34.  23. 149.  42.\n",
      " 148.  59.  51.  55.  11.  27.  74.  84. 138.  16. 117. 126. 127. 130.\n",
      "  61.  29.  37.  19. 140. 136.  97. 124.  90.  75.  66.  14.  30. 129.\n",
      "  62. 107.  26. 131.  92.  89. 143.  76. 142.  82.  46. 141.  85. 135.\n",
      "  77.   4. 119.  18. 123.  98. 139.  32.  63.   1.  40.   3.  67.  78.\n",
      "  83. 100.  12. 113.  35.  24. 128.  60.  43.  45. 147. 132.  57. 137.\n",
      " 105.  20. 133.   8.  56.  49. 102.  10. 114.  33.  25.  95.  88.  47.\n",
      "  50.  36.  71.  72.  53.  73.  58. 122. 144.  91. 134. 109.  31. 118.\n",
      "  52.  94.  44. 115.  15.  64. 103. 101.  87.]\n",
      "[ 86.  25. 107. 100. 134.  58.  49. 130.  56.  51.  70. 127.  62. 139.\n",
      "  89. 149.  42.   8. 121. 118. 135.   4.  75.  13.  83.  87.  39.  16.\n",
      "  27.  88. 128.  66.  99.  48. 146.  17.  46.  65.  32.  79. 117.  28.\n",
      "  82.  15.  72.  19.  80. 120. 122.  18.  26. 144. 102.  63.  52. 110.\n",
      "  93.  11.  78.  69.   6. 132.  68. 111.  30.  57.  94.  44.  14.  97.\n",
      " 131.  31.  90.  71.  20.  40.  38.  67.  23. 115. 140.  77. 101. 147.\n",
      " 119. 133. 112.  43.   9.  59. 125.  36.  64.  81.  47.  45.  10.   2.\n",
      "  61. 138.  24.  76.  21. 103.  95.  74. 124.  33.  55.   1. 106. 114.\n",
      "   5.  34.  22. 148.   3.  50.  60. 136. 123. 116.  92.   7.  73.  12.\n",
      " 145.  98.  37.  54. 108.  96. 129.  29. 141. 142.  84. 113. 105.  41.\n",
      " 109.  91. 126. 137.  85. 143.  35. 104.  53.]\n",
      "[  2.  44.  52.  48.  31.  83.  37.  14.  22.   4.  50. 102.  21.  28.\n",
      "  15.   7.  72. 135.  30.  47. 116.  53. 121.  68.  70. 134.  99. 128.\n",
      "  35. 145. 140.  51.  98.  13. 119.  64.  86.  89.  20. 133.  23. 136.\n",
      "  73.  56. 120. 130.  32. 113. 101.  38.  41.  19.  87. 147. 132. 126.\n",
      "  26.  63.  92.  85. 118.  29. 139.  45.  43. 137.  18. 129.  78.  90.\n",
      "  62.  75. 106.  97. 148.  24. 138. 146. 124. 100. 111.  42.  34.   9.\n",
      " 131.  74.  33.  88.   8. 107.  46.  60.  65.  82.  58. 127.  25.  76.\n",
      "  80. 110.  16.  54. 122. 144.  77.  12.  11.  94. 143.  93. 115. 125.\n",
      " 114. 149. 104.  57.  17.  49.  61.  96. 117. 123. 112.  10. 105.  27.\n",
      "  91.  69. 103.  36.   1.  40.   6.  55.  95.  39. 142.  66. 141. 109.\n",
      "  59.   3.   5.  79.  67.  71. 108.  81.  84.]\n"
     ]
    }
   ],
   "source": [
    "for element in ants:\n",
    "    print(element)"
   ]
  },
  {
   "cell_type": "code",
   "execution_count": null,
   "metadata": {},
   "outputs": [],
   "source": [
    "# Vaporization\n",
    "evaporize_val = 0.9\n",
    "intens_val = 0.1\n",
    "\n",
    "pheromones *= evaporize_val"
   ]
  },
  {
   "cell_type": "code",
   "execution_count": 16,
   "metadata": {},
   "outputs": [],
   "source": [
    "# returns the best solution aka the best ant\n",
    "def getBestAnt(ants):\n",
    "    values = []\n",
    "    # Interates through ant population\n",
    "    for ant in ants:\n",
    "        distance = 0\n",
    "        \n",
    "        # double iterates through the cities in the seperate solutions aka ants\n",
    "        for city, nextcity in zip(ant[:-1], ant[1:]):\n",
    "            distance += distances[city][nextcity]\n",
    "        values.append(distance)\n",
    "\n",
    "    # returns the best solution aka ant\n",
    "    return ants[values.index(min(values))]"
   ]
  },
  {
   "cell_type": "code",
   "execution_count": null,
   "metadata": {},
   "outputs": [],
   "source": [
    "# Intensification\n",
    "best_solution = getBestAnt(ants)\n",
    "\n",
    "for city, nextcity in zip(best_solution[:-1], best_solution[1:]):\n",
    "            pheromones[city][nextcity] += intens_val"
   ]
  }
 ],
 "metadata": {
  "kernelspec": {
   "display_name": "Python 3",
   "language": "python",
   "name": "python3"
  },
  "language_info": {
   "codemirror_mode": {
    "name": "ipython",
    "version": 3
   },
   "file_extension": ".py",
   "mimetype": "text/x-python",
   "name": "python",
   "nbconvert_exporter": "python",
   "pygments_lexer": "ipython3",
   "version": "3.6.8"
  }
 },
 "nbformat": 4,
 "nbformat_minor": 2
}
