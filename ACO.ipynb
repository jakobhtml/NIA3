{
 "cells": [
  {
   "cell_type": "markdown",
   "metadata": {},
   "source": [
    "### Construct solution"
   ]
  },
  {
   "cell_type": "code",
   "execution_count": null,
   "metadata": {},
   "outputs": [],
   "source": [
    "import numpy as np"
   ]
  },
  {
   "cell_type": "code",
   "execution_count": null,
   "metadata": {},
   "outputs": [],
   "source": [
    "def constructsolution(pval, dval, numbercities, a, b):\n",
    "    cities = []\n",
    "    pos = 0\n",
    "    for city in range(numbercities):\n",
    "            cities.append(computeprob(pos, city, pval, dval, a, b))\n",
    "    while len(cities) > 0:\n",
    "        pos = np.random.choice(len(cities), 1, cities)\n",
    "        chosencities.append(pos)\n",
    "        for city in range(numbercities):\n",
    "            cities[city] = computeprob(pos, city, pval, dval, a, b)\n",
    "        for city in chosencities:\n",
    "            cities[city] = 0\n",
    "    return cities"
   ]
  },
  {
   "cell_type": "code",
   "execution_count": null,
   "metadata": {},
   "outputs": [],
   "source": [
    "def computeprob(pos, city, pval, dval, a, b):\n",
    "    p = (1/computeN(pos, pval, dval))* ((pval[pos, city]^a)/(dval[pos, city]^b))\n",
    "    return p"
   ]
  },
  {
   "cell_type": "code",
   "execution_count": null,
   "metadata": {},
   "outputs": [],
   "source": [
    "def computeN(pos, pval, dval, a, b):\n",
    "    N = 0\n",
    "    for index in range(dval):\n",
    "        N += pval[pos, index]^a/dval[pos, index]^b\n",
    "    return N"
   ]
  }
 ],
 "metadata": {
  "kernelspec": {
   "display_name": "Python 3",
   "language": "python",
   "name": "python3"
  },
  "language_info": {
   "codemirror_mode": {
    "name": "ipython",
    "version": 3
   },
   "file_extension": ".py",
   "mimetype": "text/x-python",
   "name": "python",
   "nbconvert_exporter": "python",
   "pygments_lexer": "ipython3",
   "version": "3.7.1"
  }
 },
 "nbformat": 4,
 "nbformat_minor": 2
}
