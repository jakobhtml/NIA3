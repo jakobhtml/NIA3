{
 "cells": [
  {
   "cell_type": "code",
   "execution_count": 1,
   "metadata": {},
   "outputs": [],
   "source": [
    "import numpy as np"
   ]
  },
  {
   "cell_type": "code",
   "execution_count": null,
   "metadata": {},
   "outputs": [],
   "source": [
    "def constructSolution(pVal, dVal, numberCities):\n",
    "    \n",
    "    cities = []\n",
    "    \n",
    "    for city in range(numberCities):\n",
    "\n",
    "            cities.append(computeProb(pVal, dVal))\n",
    "        \n",
    "    while len(cities) > 0:    \n",
    "        chosenCity = np.random.choice(len(cities), 1, cities)\n",
    "        chosenCities.append(chosenCity)\n",
    "        cities[chosenCity] = 0\n",
    "        for city in range(numberCities):\n",
    "            cities[city] = computeProb(pVal, dVal)\n",
    "    return cities"
   ]
  }
 ],
 "metadata": {
  "kernelspec": {
   "display_name": "Python 3",
   "language": "python",
   "name": "python3"
  },
  "language_info": {
   "codemirror_mode": {
    "name": "ipython",
    "version": 3
   },
   "file_extension": ".py",
   "mimetype": "text/x-python",
   "name": "python",
   "nbconvert_exporter": "python",
   "pygments_lexer": "ipython3",
   "version": "3.6.8"
  }
 },
 "nbformat": 4,
 "nbformat_minor": 2
}
