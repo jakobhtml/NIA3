{
 "cells": [
  {
   "cell_type": "markdown",
   "metadata": {},
   "source": [
    "# Ant Colony Optimization Problem\n",
    "#### by Vico Wietstock, Jakob Litsch, Alexander Palatnik, Paul Ludwig Branzk and Friedrich Heitzer"
   ]
  },
  {
   "cell_type": "code",
   "execution_count": 2,
   "metadata": {},
   "outputs": [],
   "source": [
    "import numpy as np"
   ]
  },
  {
   "cell_type": "markdown",
   "metadata": {},
   "source": [
    "### Input and Initialization of the Distances, Pheromone value, ants and cities matrizes"
   ]
  },
  {
   "cell_type": "code",
   "execution_count": 6,
   "metadata": {},
   "outputs": [
    {
     "name": "stdin",
     "output_type": "stream",
     "text": [
      "Welche benchmark soll laufen?  01manhattan\n",
      "Wieviele Ameisen? 20\n"
     ]
    }
   ],
   "source": [
    "eingabe = input(\"Welche benchmark soll laufen? \")\n",
    "\n",
    "#Reads the tsp file and creates a nested list out of it\n",
    "liste = []\n",
    "with open(eingabe + \".tsp\") as f:\n",
    "    for line in f:\n",
    "        linelist = line.split(\" \")\n",
    "        linelist = linelist[:-1]\n",
    "        linelist = list(map(int, linelist))\n",
    "        liste.append(linelist)\n",
    "\n",
    "# nested List --> distances numpy array\n",
    "distances = np.array(liste)\n",
    "\n",
    "# n is the number of cities\n",
    "n = len(liste[0])\n",
    "\n",
    "# Initialization of the pheromones array\n",
    "pheromones = np.ones((n, n))\n",
    "for i in range(n):\n",
    "    pheromones[i][i] = 0\n",
    "\n",
    "# Input of the number of ants and initialization of ants array\n",
    "antcount = int(input(\"Wieviele Ameisen?\"))\n",
    "ants = np.zeros((antcount, n), dtype=int)\n",
    "\n",
    "# Initialization of cities list\n",
    "cities = []"
   ]
  },
  {
   "cell_type": "markdown",
   "metadata": {},
   "source": [
    "### Construct Solution"
   ]
  },
  {
   "cell_type": "code",
   "execution_count": null,
   "metadata": {},
   "outputs": [],
   "source": [
    "def constructsolution(pval, dval, numbercities, a, b):\n",
    "    cities = []\n",
    "    pos = 0\n",
    "    for city in range(numbercities):\n",
    "            cities.append(computeprob(pos, city, pval, dval, a, b))\n",
    "    while len(cities) > 0:\n",
    "        pos = np.random.choice(len(cities), 1, cities)\n",
    "        chosencities.append(pos)\n",
    "        for city in range(numbercities):\n",
    "            cities[city] = computeprob(pos, city, pval, dval, a, b)\n",
    "        for city in chosencities:\n",
    "            cities[city] = 0\n",
    "    return cities"
   ]
  },
  {
   "cell_type": "code",
   "execution_count": null,
   "metadata": {},
   "outputs": [],
   "source": [
    "def computeprob(pos, city, pval, dval, a, b):\n",
    "    p = (1/computeN(pos, pval, dval))* ((pval[pos, city]^a)/(dval[pos, city]^b))\n",
    "    return p"
   ]
  },
  {
   "cell_type": "code",
   "execution_count": null,
   "metadata": {},
   "outputs": [],
   "source": [
    "def computeN(pos, pval, dval, a, b):\n",
    "    N = 0\n",
    "    for index in range(dval):\n",
    "        N += pval[pos, index]^a/dval[pos, index]^b\n",
    "    return N"
   ]
  },
  {
   "cell_type": "code",
   "execution_count": null,
   "metadata": {},
   "outputs": [],
   "source": [
    "# Vaporization\n",
    "evaporize_val = 0.9\n",
    "intens_val = 0.1\n",
    "\n",
    "pheromones *= evaporize_val"
   ]
  },
  {
   "cell_type": "code",
   "execution_count": 13,
   "metadata": {},
   "outputs": [
    {
     "data": {
      "text/plain": [
       "array([0, 0, 0, 0, 0, 0, 0, 0, 0, 0, 0, 0, 0, 0, 0, 0, 0, 0, 0, 0, 0, 0,\n",
       "       0, 0, 0, 0, 0, 0, 0, 0, 0, 0, 0, 0, 0, 0, 0, 0, 0, 0, 0, 0, 0, 0,\n",
       "       0, 0, 0, 0, 0, 0, 0, 0, 0, 0, 0, 0, 0, 0, 0, 0, 0, 0, 0, 0, 0, 0,\n",
       "       0, 0, 0, 0, 0, 0, 0, 0, 0, 0, 0, 0, 0, 0, 0, 0, 0, 0, 0, 0, 0, 0,\n",
       "       0, 0, 0, 0, 0, 0, 0, 0, 0, 0, 0, 0, 0, 0, 0, 0, 0, 0, 0, 0, 0, 0,\n",
       "       0, 0, 0, 0, 0, 0, 0, 0, 0, 0, 0, 0, 0, 0, 0, 0, 0, 0, 0, 0, 0, 0,\n",
       "       0, 0, 0, 0, 0, 0, 0, 0, 0, 0, 0, 0, 0, 0, 0, 0, 0, 0])"
      ]
     },
     "execution_count": 13,
     "metadata": {},
     "output_type": "execute_result"
    }
   ],
   "source": [
    "# returns the best solution aka the best ant\n",
    "def getBestAnt(ants):\n",
    "    values = []\n",
    "    # Interates through ant population\n",
    "    for ant in ants:\n",
    "        distance = 0\n",
    "        \n",
    "        # double iterates through the cities in the seperate solutions aka ants\n",
    "        for city, nextcity in zip(ant[:-1], ant[1:]):\n",
    "            distance += distances[city][nextcity]\n",
    "        values.append(distance)\n",
    "\n",
    "    # returns the best solution aka ant\n",
    "    return ants[values.index(min(values))]"
   ]
  },
  {
   "cell_type": "code",
   "execution_count": null,
   "metadata": {},
   "outputs": [],
   "source": [
    "# Intensification\n",
    "best_solution = getBestAnt(ants)\n",
    "\n",
    "for city, nextcity in zip(best_solution[:-1], best_solution[1:]):\n",
    "            pheromones[city][nextcity] += intens_val"
   ]
  }
 ],
 "metadata": {
  "kernelspec": {
   "display_name": "Python 3",
   "language": "python",
   "name": "python3"
  },
  "language_info": {
   "codemirror_mode": {
    "name": "ipython",
    "version": 3
   },
   "file_extension": ".py",
   "mimetype": "text/x-python",
   "name": "python",
   "nbconvert_exporter": "python",
   "pygments_lexer": "ipython3",
   "version": "3.7.1"
  }
 },
 "nbformat": 4,
 "nbformat_minor": 2
}
