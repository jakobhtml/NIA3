{
 "cells": [
  {
   "cell_type": "markdown",
   "metadata": {},
   "source": [
    "# Ant Colony Optimization Problem\n",
    "#### by Vico Wietstock, Jakob Litsch, Alexander Palatnik, Paul Ludwig Branzk and Friedrich Heitzer"
   ]
  },
  {
   "cell_type": "code",
   "execution_count": 12,
   "metadata": {},
   "outputs": [],
   "source": [
    "import numpy as np"
   ]
  },
  {
   "cell_type": "markdown",
   "metadata": {},
   "source": [
    "### Input and Initialization of the Distances, Pheromone value, ants and cities matrizes"
   ]
  },
  {
   "cell_type": "code",
   "execution_count": 15,
   "metadata": {},
   "outputs": [
    {
     "name": "stdout",
     "output_type": "stream",
     "text": [
      "Welche benchmark soll laufen? 01manhattan\n",
      "Wieviele Ameisen?10\n"
     ]
    }
   ],
   "source": [
    "eingabe = input(\"Welche benchmark soll laufen? \")\n",
    "\n",
    "#Reads the tsp file and creates a nested list out of it\n",
    "liste = []\n",
    "with open(eingabe + \".tsp\") as f:\n",
    "    for line in f:\n",
    "        linelist = line.split(\" \")\n",
    "        linelist = linelist[:-1]\n",
    "        linelist = list(map(int, linelist))\n",
    "        liste.append(linelist)\n",
    "\n",
    "# nested List --> distances numpy array\n",
    "distances = np.array(liste)\n",
    "\n",
    "# n is the number of cities\n",
    "n = len(liste[0])\n",
    "\n",
    "# Initialization of the pheromones array\n",
    "pheromones = np.ones((n, n))\n",
    "for i in range(n):\n",
    "    pheromones[i][i] = 0\n",
    "\n",
    "# Input of the number of ants and initialization of ants array\n",
    "antcount = int(input(\"Wieviele Ameisen?\"))\n",
    "ants = np.zeros((antcount, n), dtype=int)\n",
    "\n",
    "# Initialization of cities list\n",
    "cities = []"
   ]
  },
  {
   "cell_type": "markdown",
   "metadata": {},
   "source": [
    "### Construct Solution"
   ]
  },
  {
   "cell_type": "code",
   "execution_count": 130,
   "metadata": {},
   "outputs": [],
   "source": [
    "def constructsolution(pval, dval, citycount, a, b, antcount):\n",
    "    solution = np.zeros((antcount, citycount-1), dtype = float)\n",
    "    cities = np.zeros((citycount,), dtype = float)\n",
    "    for ant in range(antcount):\n",
    "        print(ant)\n",
    "        pos = 0\n",
    "        chosencities = np.zeros((citycount,), dtype = float)\n",
    "        chosencities[pos] = 0\n",
    "        for city in range(citycount):\n",
    "            if(city in chosencities):\n",
    "                cities[city] = 0\n",
    "            else:\n",
    "                cities[city] = computeprob(pos, city, pval, dval, a, b, chosencities)\n",
    "        for i in range(citycount-1):\n",
    "            pos = np.random.choice(len(cities),1, p = cities)\n",
    "            chosencities[i+1] = pos\n",
    "            solution[ant, i] = pos\n",
    "            for city in range(citycount):\n",
    "                if(city in chosencities):\n",
    "                    cities[city] = 0\n",
    "                else:\n",
    "                    cities[city] = computeprob(pos, city, pval, dval, a, b, chosencities)\n",
    "            #print(cities)\n",
    "    return solution"
   ]
  },
  {
   "cell_type": "code",
   "execution_count": 131,
   "metadata": {},
   "outputs": [],
   "source": [
    "def computeprob(pos, city, pval, dval, a, b, chosencities):\n",
    "        p = (1/computeN(pos, pval, dval, a, b, chosencities))* ((pval[pos, city]**a)/(dval[pos, city]**b))\n",
    "    return p"
   ]
  },
  {
   "cell_type": "code",
   "execution_count": 132,
   "metadata": {},
   "outputs": [],
   "source": [
    "def computeN(pos, pval, dval, a, b, chosencities):\n",
    "    N = 0\n",
    "    for index in range(len(dval)):\n",
    "        if index not in chosencities:\n",
    "            N += pval[pos, index]**a/dval[pos, index]**b\n",
    "            \n",
    "    return N"
   ]
  },
  {
   "cell_type": "code",
   "execution_count": null,
   "metadata": {
    "scrolled": true
   },
   "outputs": [
    {
     "name": "stdout",
     "output_type": "stream",
     "text": [
      "0\n",
      "1\n",
      "2\n",
      "3\n",
      "4\n",
      "5\n",
      "6\n",
      "7\n"
     ]
    }
   ],
   "source": [
    "alpha = 1\n",
    "beta = 1\n",
    "\n",
    "ants = constructsolution(pheromones, distances, n, alpha, beta, antcount)"
   ]
  },
  {
   "cell_type": "code",
   "execution_count": 122,
   "metadata": {
    "scrolled": false
   },
   "outputs": [
    {
     "name": "stdout",
     "output_type": "stream",
     "text": [
      "[ 13.  86.  56.  81. 128.  32.  65.  70.  39.  33.  60. 111.  89.  76.\n",
      " 138. 132. 147. 104. 149.  36.  55.  80.  82. 140. 116.  42.  48.  77.\n",
      "  66.  83.  71.  78.  31.  73.  17.  30.  58. 101. 109.  24.  49.  35.\n",
      " 110. 139.  53.  15.  99.  84. 118. 119.  43.  74. 133. 117.  57.  27.\n",
      " 143.  63. 102. 148.  85.  94.  20.  23.   9.  34.  46.  75.  72.  12.\n",
      "  59.  41.   7.  98. 106.  37.  44.  19.  69.   1.  62.  95. 142.  52.\n",
      "  14.  54.  87.  50. 123. 126. 137.  26. 114.  92.   8.  38. 105.  16.\n",
      "  93.  25. 115. 145. 107. 134.  97. 125.  47. 112.   2. 141.  11.  61.\n",
      "  40.  29.   3.  22. 144. 113.  18. 121.  68. 108.  88.   5. 127. 135.\n",
      "  91. 100.  28. 124.  64. 146.  51.  67.  45.   4.  90. 129.  96.  79.\n",
      "   6.  10. 136.  21. 120. 122. 103. 130. 131.]\n",
      "[ 49.  60.  30.  42.  90.  68. 123. 106.  61. 139. 104.  74.  84.  85.\n",
      " 118.   3.  22. 108. 145.  83.  34. 128.  32. 133.  44.  91. 134.  81.\n",
      "  79.  54.  66.  70.  97.  88.   5.  55.  62.  59.   4.  18.  73. 124.\n",
      "  14.  93.  37. 121. 136. 141. 105.  80.  82.  69.  53. 110. 103.  64.\n",
      " 122.  46. 102.  23.  89. 115. 119.  63.  36.  11.  72. 125.  75.  65.\n",
      " 101. 113. 131.  98.  19.  51.  29. 148. 126.   9. 117. 114.  58. 138.\n",
      "  24. 130. 100.  76.  31. 132.  87.   6.  12.  77.  41.  94.  57. 107.\n",
      "  95. 112.  92.  26.   8. 146.   1. 142.  39.  15.  48.  16. 149.  25.\n",
      "  38.  78. 129.  71.  43.  52.  13. 111.  40. 109. 144. 116. 120.  96.\n",
      "  56.  28.   7.  86. 143.  17. 137.  20. 135.  35.   2.  47.  67.  45.\n",
      "  10.  99.  21.  27.  33. 147.  50. 140. 127.]\n",
      "[ 96. 103. 116.  69.  30.  94.  68.  13.  44.   8.  60.  31.  27.   9.\n",
      "   5.  11.  18.  42. 137. 110.  97.  20.  52.  21.  76.  26. 129.  67.\n",
      "  71. 148. 111. 106. 131.  17. 112. 114.  66.  15.   7.  81.  36. 107.\n",
      "  82. 138. 100.  88. 124.  25. 127. 134. 113.  22. 136.  41.  92.  99.\n",
      "  24.  56.  28. 142.  80.  10.  55. 117.  54. 128.  63. 122.  46.  70.\n",
      " 120.  37. 135.  50. 104.   3. 125.  19.  61. 140.   4.  86.  49.  38.\n",
      " 119.  48. 149. 115.  87.  33. 109. 118.  29. 105. 101.  53.  75.  85.\n",
      "  98.  90.   1. 121.  95.  93.   6.  79.  47. 139.  32.  12.  72.  73.\n",
      " 143. 108. 123. 133.  34.  14.  40.  57. 146.   2.  65. 144. 145.  16.\n",
      "  84.  45.  78.  74. 147. 132.  89. 126.  23. 102. 141.  58.  43.  51.\n",
      "  59. 130.  62.  64.  91.  77.  83.  39.  35.]\n",
      "[ 22. 147.  83.  50. 123.  10.  66. 128.  32.  51. 101.  55. 139.  42.\n",
      "  45.  69.  98. 135.  72.  11.   7.  17.  73.   4. 144.   1.  31.  37.\n",
      "   3.  61.  78.  16.  47.   9.  87.  56. 126.   6.   5. 114.  81.  53.\n",
      " 124.  36.  20. 148. 108.  65.  44. 143.  57. 104.  24.  88.  71.  96.\n",
      "  30.  67. 111. 107.  90.  68. 149. 102. 100. 138.  92.  43.  14. 132.\n",
      "  54.  95.  35.  39. 110.  74.  27. 113. 125.  26.  25.  76. 120. 145.\n",
      " 117.  33.  62.  60.  41.  85.  15. 133.  86.  91. 119.  58.  21. 127.\n",
      "  13. 106.  77. 109.  64.  82.  12.  40.  23.  18. 121.  84. 115. 140.\n",
      " 112.  79.  93.  97.  59.  99. 134.  52.   2. 118.  94. 146. 131. 122.\n",
      "  46. 141. 103. 130.  75.  89.   8.  38.  80.  49. 129.  48.  19. 136.\n",
      " 142.  70. 105.  29. 137. 116.  34.  63.  28.]\n",
      "[106. 122. 141.  78. 120.  96.  31. 133.  45.  42. 123.  32.  65. 129.\n",
      " 121.  43.  94. 104.   4. 136.  12.  15.   3.  40. 100. 124.  48.  88.\n",
      "  92. 127.  46.  21. 102.  91.   6.  57.  33.  41. 116.  22. 137.  36.\n",
      "  63.  82.  61.  25.  93.  84.  67.  10.  37.  72. 140.   7. 131. 107.\n",
      "  54.  97.  19. 118.  17. 143.   2. 119. 132.  87.  38.  86. 103.  89.\n",
      " 146. 105.  59.   9.  62. 142.  24.  13.  51.  16.  98.  55.  14.  27.\n",
      " 149. 112. 134.  52.  44. 109.   1.  75.  53. 135.  29. 110.  28.  73.\n",
      "  47.  50.  18.  39.  23. 126. 117. 114.  74.  34. 115.  35.  95. 130.\n",
      "  70.  85. 111.  30.  76.  99. 139. 128. 101. 148.  69. 144. 113.  56.\n",
      "  80.  66.  64.  58. 138. 108. 145. 147.  83.  79.   5.  81.  71.  49.\n",
      "  60.  90.   8.  26.  77.  11.  68. 125.  20.]\n",
      "[  4.  72.  19.   3.  91.  80. 120.  96. 129.  90.  17.  57.  84. 121.\n",
      "  21.  63. 107.  52.  76.  27.  14.  16. 115. 147. 145. 128. 103.  66.\n",
      "  24.   9.  55. 133.  23.  13. 118.  61. 126.  44.  65.  68.  78.  20.\n",
      " 123.  26. 119.  53. 111.   6. 117.  83.   7. 101. 149.  74.  70. 143.\n",
      " 106. 127.  31.  12.  48.   8.   1.  40. 144.  69. 139.  37.  33. 142.\n",
      "  18.  73.  95. 124.   5.  22.  29. 140.  71.  30.  56.  98. 100. 108.\n",
      " 138. 130.  92. 135. 136.  34. 105. 113.  32.  64.  58. 102. 131. 109.\n",
      "  67. 134.  99. 141. 122. 110.  97.  41. 125.  45.  81.  87. 132.  82.\n",
      "  86.  11.  62.  47. 112. 146.  38.  85. 116.  54.  79.  59.  51.  89.\n",
      "  93.  10. 148.  77.  46. 104.  43. 137.  35.  94.  42.  15. 114.  88.\n",
      "   2.  39.  28.  60.  49.  75.  25.  36.  50.]\n",
      "[ 52.  92. 148.   7.  72.  85. 130. 100. 104.  43. 118.  98.  75.  25.\n",
      " 149.  18. 116.  94.  68. 121.  41.  28.  59. 132. 147.  45. 137.  95.\n",
      " 107.  55.   6.   1.  86.  63.  89. 140.  11.  12. 127.  99.  76.  39.\n",
      "  93. 131. 113.  50. 123. 112.  10. 111.  97.  16.  74.  84. 146.  57.\n",
      " 141.  22. 101.  29.  78. 143.  14.  24. 106. 144. 109. 119. 136.  67.\n",
      "  48.  30.  32. 139.  71.  65.  44.  19.  62. 103.   3. 105. 115.  81.\n",
      "  33.  38.  82.  46.   4.  79.  83. 124.   2.  20.  36. 133. 125. 134.\n",
      " 142.  60.  34.   9.  80.  91. 128. 126.  42.  13.   8.  90.  96. 120.\n",
      "  56.  73.  17.  77.  37. 135. 117.  54.  23.  61.  87.  47.  49. 102.\n",
      "  40. 122.  58. 138. 145.  35. 108.  70.  88. 114.   5.  27.  31.  69.\n",
      "  53. 129.  51.  64.  21.  66.  26. 110.  15.]\n",
      "[ 31.  69. 122.  50.  67. 145.  24. 110.  39. 144.  65. 136.  80.  91.\n",
      "  26.  92. 147.  84. 117. 148.  23. 138.   7. 118. 105. 108.  82.  93.\n",
      "  97.  74.  37.   4.  75. 124.  73. 111.  78. 126. 100. 130. 103.  95.\n",
      " 120.  57.  30. 129. 143. 106.  86.  98. 123.  54.  14.  27.  70.  60.\n",
      " 131. 127.  76.  35. 119.  64.  20.  32.  13.  62.   5. 114.  79.  88.\n",
      "  48. 149.  43.  51.  68.  63.   1.  56. 107.  44. 140. 133. 112.   3.\n",
      "   9.  16. 115.  49.  21.  40. 109.  87.  83.  59.  25.  90. 137. 121.\n",
      "  17. 113.  71.   8. 101.  85.  42.  55.  46.  15.  72.  11.  18.  89.\n",
      "  29.  61. 139. 104.  41.  77.  12.  53.  33.   6.  10.  38.  19. 135.\n",
      "   2. 134. 102.  58.  94.  34.  99. 116. 125.  81.  52. 146.  45.  66.\n",
      " 128. 132.  28.  22.  47.  36.  96. 142. 141.]\n",
      "[135.   4. 147. 132.  48. 118.  11. 146.  95.  39.  83. 148.  43.  80.\n",
      " 131.  40.  75.  94.  64.  99. 134.  73.  69.  86. 128.  56. 120.  28.\n",
      "  76.  52.  92.  26. 111. 129.   8.  10.   5. 117.   2.  98.  31.  16.\n",
      " 138. 108.  38. 119.  36.  20. 139. 126.  35.  66. 104.  57.  78.  89.\n",
      "  21.  54.  84.  23. 133. 100.  87.  88.  34.  74. 106.  91. 102. 136.\n",
      "  50.  67. 143. 144.   3.  24.  55. 112.  47.  81. 116.  22. 105.  29.\n",
      "  19.  77.  53. 140.   7.  72. 123.  45.  17.  79. 115.  12.  58. 141.\n",
      " 109.  63.  93.  97.   6.  61. 113. 124.  37.  13. 122. 114.  27.  33.\n",
      "  30.  32.  46.   1.  41. 103.  25.  85.  70.  68.  44.  51. 101.  90.\n",
      " 110.  59. 121.  65.  42. 149. 125.  71. 137.  82.  49. 127.  18.   9.\n",
      "  14. 130.  15. 145.  62. 107. 142.  60.  96.]\n",
      "[ 40. 129. 105.  43.  45. 125. 137.  33.  18. 104. 131.  75. 118. 119.\n",
      "  37. 135. 149.  34.  35.  16. 126. 133.  59.  41.   8.  95. 124.   9.\n",
      "  66.  22.   3.  49.  44. 113. 111.  28.  52.  92.   4.  17.  99. 142.\n",
      "  13.  63. 128.  39.  60.  19.   7.  11. 107.  57.  42.  55.  21.  76.\n",
      "  91. 121.  50. 136.  72.  12. 139. 147. 132. 115.   2.  93.   1.  96.\n",
      "  81. 114.  27.  30.  69.  38.   5.  53. 146.  56.  25. 120.   6.  79.\n",
      " 117.  83.  31. 122.  85. 138.  24. 130. 145.  73. 123.  29.  62.  48.\n",
      "  71.  20.  61.  86. 102.  54.  94. 103. 140. 116.  67.  23.  47.  68.\n",
      "  90.  78.  58. 141.  46.  88.  51.  65.  36. 144. 109. 148. 127. 106.\n",
      "  84. 112.  15.  82.  64.  77. 101.  32.  70.  26.  87.  97.  14. 110.\n",
      " 134.  80. 108. 100.  74.  10.  89. 143.  98.]\n"
     ]
    }
   ],
   "source": [
    "for element in ants:\n",
    "    print(element)"
   ]
  },
  {
   "cell_type": "code",
   "execution_count": null,
   "metadata": {},
   "outputs": [],
   "source": [
    "# Vaporization\n",
    "evaporize_val = 0.9\n",
    "intens_val = 0.1\n",
    "\n",
    "pheromones *= evaporize_val"
   ]
  },
  {
   "cell_type": "code",
   "execution_count": 16,
   "metadata": {},
   "outputs": [],
   "source": [
    "# returns the best solution aka the best ant\n",
    "def getBestAnt(ants):\n",
    "    values = []\n",
    "    # Interates through ant population\n",
    "    for ant in ants:\n",
    "        distance = 0\n",
    "        \n",
    "        # double iterates through the cities in the seperate solutions aka ants\n",
    "        for city, nextcity in zip(ant[:-1], ant[1:]):\n",
    "            distance += distances[city][nextcity]\n",
    "        values.append(distance)\n",
    "\n",
    "    # returns the best solution aka ant\n",
    "    return ants[values.index(min(values))]"
   ]
  },
  {
   "cell_type": "code",
   "execution_count": null,
   "metadata": {},
   "outputs": [],
   "source": [
    "# Intensification\n",
    "best_solution = getBestAnt(ants)\n",
    "\n",
    "for city, nextcity in zip(best_solution[:-1], best_solution[1:]):\n",
    "            pheromones[city][nextcity] += intens_val"
   ]
  }
 ],
 "metadata": {
  "kernelspec": {
   "display_name": "Python 3",
   "language": "python",
   "name": "python3"
  },
  "language_info": {
   "codemirror_mode": {
    "name": "ipython",
    "version": 3
   },
   "file_extension": ".py",
   "mimetype": "text/x-python",
   "name": "python",
   "nbconvert_exporter": "python",
   "pygments_lexer": "ipython3",
   "version": "3.6.8"
  }
 },
 "nbformat": 4,
 "nbformat_minor": 2
}
