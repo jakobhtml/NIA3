{
 "cells": [
  {
   "cell_type": "markdown",
   "metadata": {},
   "source": [
    "# Ant Colony Optimization Problem\n",
    "#### by Vico Wietstock, Jakob Litsch, Alexander Palatnik, Paul Ludwig Branzk and Friedrich Heitzer"
   ]
  },
  {
   "cell_type": "code",
   "execution_count": 1,
   "metadata": {},
   "outputs": [],
   "source": [
    "import numpy as np"
   ]
  },
  {
   "cell_type": "markdown",
   "metadata": {},
   "source": [
    "### Input, Initialization (Friedrich Heitzer)"
   ]
  },
  {
   "cell_type": "code",
   "execution_count": 2,
   "metadata": {},
   "outputs": [
    {
     "name": "stdout",
     "output_type": "stream",
     "text": [
      "Welche benchmark soll laufen? 01manhattan\n"
     ]
    }
   ],
   "source": [
    "eingabe = input(\"Welche benchmark soll laufen? \")\n",
    "\n",
    "#Reads the tsp file and creates a nested list out of it\n",
    "liste = []\n",
    "with open(eingabe + \".tsp\") as f:\n",
    "    for line in f:\n",
    "        linelist = line.split(\" \")\n",
    "        linelist = linelist[:-1]\n",
    "        linelist = list(map(int, linelist))\n",
    "        liste.append(linelist)\n",
    "\n",
    "# numpy array for distances between cities\n",
    "distances = np.array(liste)\n",
    "\n",
    "# number of cities\n",
    "citycount = len(liste[0])\n",
    "\n",
    "# Initialization of the pheromones array\n",
    "pheromones = np.ones((citycount, citycount))\n",
    "for i in range(citycount):\n",
    "    pheromones[i][i] = 0\n",
    "\n",
    "antcount_values = [10, 50, 100]\n",
    "\n",
    "evap_values = [0.9, 0.7, 0.5]\n",
    "\n",
    "intens_values = [0.1, 0.3, 0.5]\n",
    "\n",
    "alpha_values = [0, 1, 2]\n",
    "\n",
    "beta_values = [0, 1, 2]\n"
   ]
  },
  {
   "cell_type": "markdown",
   "metadata": {},
   "source": [
    "### Construct Solution (Alexander Palatnik, Jakob Litsch)"
   ]
  },
  {
   "cell_type": "code",
   "execution_count": 21,
   "metadata": {},
   "outputs": [],
   "source": [
    "def constructsolution(pval, dval, citycount, a, b, antcount):\n",
    "    solution = np.zeros((antcount,citycount-1), dtype = int)\n",
    "    cities = np.zeros((citycount,), dtype = float)\n",
    "    for ant in range(antcount):\n",
    "        pos = 0\n",
    "        chosencities = np.zeros((citycount+1,), dtype = int)\n",
    "        chosencities[0] = pos\n",
    "        for city in range(citycount):\n",
    "            if(city in chosencities):\n",
    "                cities[city] = 0\n",
    "            else:\n",
    "                cities[city] = computeprob(pos, city, pval, dval, a, b, chosencities)\n",
    "        for i in range(citycount-1):\n",
    "            pos = np.random.choice(len(cities), 1, p = cities)\n",
    "            chosencities[i+1] = pos\n",
    "            solution[ant,i] = pos\n",
    "            for city in range(citycount):\n",
    "                if(city in chosencities):\n",
    "                    cities[city] = 0\n",
    "                else:\n",
    "                    cities[city] = computeprob(pos, city, pval, dval, a, b, chosencities)\n",
    "    return solution"
   ]
  },
  {
   "cell_type": "code",
   "execution_count": 4,
   "metadata": {},
   "outputs": [],
   "source": [
    "def computeprob(pos, city, pval, dval, a, b, chosencities):\n",
    "    p = (1/computeN(pos, pval, dval, a, b, chosencities))* ((pval[pos, city]**a)/(dval[pos, city]**b))\n",
    "    return p"
   ]
  },
  {
   "cell_type": "code",
   "execution_count": 5,
   "metadata": {},
   "outputs": [],
   "source": [
    "def computeN(pos, pval, dval, a, b, chosencities):\n",
    "    N = 0\n",
    "    for index in range(len(dval)):\n",
    "        if index not in chosencities:\n",
    "            N += pval[pos, index]**a/dval[pos, index]**b\n",
    "            \n",
    "    return N"
   ]
  },
  {
   "cell_type": "markdown",
   "metadata": {},
   "source": [
    "### Evaluation, Evaporization, Intensification (Vico Wietstock, Friedrich Heitzer)"
   ]
  },
  {
   "cell_type": "code",
   "execution_count": 6,
   "metadata": {},
   "outputs": [],
   "source": [
    "# returns distance of the given solution/ant \n",
    "def get_distance(distances, ant):\n",
    "    \n",
    "    distance = 0        \n",
    "    # iterates through cities in the ant and sums up distances \n",
    "    for city, nextcity in zip(ant[:-1], ant[1:]):\n",
    "        distance += distances[city][nextcity]\n",
    "        \n",
    "    return distance"
   ]
  },
  {
   "cell_type": "code",
   "execution_count": 7,
   "metadata": {},
   "outputs": [],
   "source": [
    "# returns the best solution/ant\n",
    "def get_best(ants):\n",
    "    values = []\n",
    "    # Interates through ant population\n",
    "    for ant in ants:\n",
    "        distance = 0\n",
    "        \n",
    "        # double iterates through the cities in the seperate solutions aka ants\n",
    "        for city, nextcity in zip(ant[:-1], ant[1:]):\n",
    "            distance += distances[city][nextcity]\n",
    "        values.append(distance)\n",
    "\n",
    "    # returns the best solution aka ant\n",
    "    return ants[values.index(min(values))]"
   ]
  },
  {
   "cell_type": "code",
   "execution_count": 16,
   "metadata": {},
   "outputs": [],
   "source": [
    "# Evaporization \n",
    "def evaporize(pheromones, evaporize_val):\n",
    "    # evaporize all pheromone values\n",
    "    pheromones *= evaporize_val\n",
    "    \n",
    "    return pheromones"
   ]
  },
  {
   "cell_type": "code",
   "execution_count": 17,
   "metadata": {},
   "outputs": [],
   "source": [
    "# Intensification\n",
    "def intensify(pheromones, intens_val, ants):\n",
    "    # get best solution \n",
    "    best_ant = get_best(ants)\n",
    "    \n",
    "    # intensify values from the best solution\n",
    "    for city, nextcity in zip(best_ant[:-1], best_ant[1:]):\n",
    "        pheromones[city][nextcity] += intens_val\n",
    "        \n",
    "    return pheromones, best_ant"
   ]
  },
  {
   "cell_type": "markdown",
   "metadata": {},
   "source": [
    "### Main (Ludwig Branzk, Vico Wietstock)"
   ]
  },
  {
   "cell_type": "code",
   "execution_count": 24,
   "metadata": {},
   "outputs": [],
   "source": [
    "def main(distances, pheromones, citycount, antcount, evaporize_val, intens_val, alpha, beta):\n",
    "    \n",
    "    population = constructsolution(pheromones, distances, citycount, alpha, beta, antcount)\n",
    "    pheromones = evaporize(pheromones, evaporize_val)\n",
    "    pheromones, best_solution = intensify(pheromones, intens_val, population)\n",
    "    \n",
    "    best_distance = get_distance(distances, best_solution)\n",
    "    \n",
    "    counter = 0\n",
    "    \n",
    "    while counter < 5:\n",
    "        population = constructsolution(pheromones, distances, citycount, alpha, beta, antcount)\n",
    "        pheromones = evaporize(pheromones, evaporize_val)\n",
    "        pheromones, best_ant = intensify(pheromones, intens_val, population)\n",
    "        \n",
    "        distance = get_distance(distances, best_ant)\n",
    "        \n",
    "        if distance <= best_distance:\n",
    "            best_solution = best_ant\n",
    "            best_distance = distance\n",
    "            counter = 0\n",
    "        else:\n",
    "            counter += 1\n",
    "        print(counter)\n",
    "    return best_distance"
   ]
  },
  {
   "cell_type": "code",
   "execution_count": 25,
   "metadata": {},
   "outputs": [
    {
     "name": "stdout",
     "output_type": "stream",
     "text": [
      "0\n",
      "0\n",
      "0\n",
      "0\n",
      "1\n",
      "0\n",
      "0\n",
      "0\n",
      "0\n",
      "0\n",
      "1\n",
      "2\n",
      "3\n",
      "4\n",
      "5\n",
      "10902\n"
     ]
    }
   ],
   "source": [
    "antcount = 2\n",
    "evaporize_val = 0.5\n",
    "intens_val = 0.5\n",
    "alpha = 1\n",
    "beta = 1\n",
    "print(main(distances, pheromones, citycount, antcount, evaporize_val, intens_val, alpha, beta))"
   ]
  }
 ],
 "metadata": {
  "kernelspec": {
   "display_name": "Python 3",
   "language": "python",
   "name": "python3"
  },
  "language_info": {
   "codemirror_mode": {
    "name": "ipython",
    "version": 3
   },
   "file_extension": ".py",
   "mimetype": "text/x-python",
   "name": "python",
   "nbconvert_exporter": "python",
   "pygments_lexer": "ipython3",
   "version": "3.7.1"
  }
 },
 "nbformat": 4,
 "nbformat_minor": 2
}
