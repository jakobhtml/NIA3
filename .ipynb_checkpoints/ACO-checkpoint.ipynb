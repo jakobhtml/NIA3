{
 "cells": [
  {
   "cell_type": "markdown",
   "metadata": {},
   "source": [
    "### Construct solution"
   ]
  },
  {
   "cell_type": "code",
   "execution_count": null,
   "metadata": {},
   "outputs": [],
   "source": [
    "import numpy as np"
   ]
  },
  {
   "cell_type": "code",
   "execution_count": null,
   "metadata": {},
   "outputs": [],
   "source": [
    "def constructsolution(pval, dval, numbercities):\n",
    "    cities = []\n",
    "    for city in range(numbercities):\n",
    "            cities.append(computeprob(pval, dval))\n",
    "    while len(cities) > 0:\n",
    "        chosencity = np.random.choice(len(cities), 1, cities)\n",
    "        chosencities.append(chosencity)\n",
    "        cities[chosencity] = 0\n",
    "        for city in range(numbercities):\n",
    "            cities[city] = computeprob(pval, dval)\n",
    "    return cities"
   ]
  }
 ],
 "metadata": {
  "kernelspec": {
   "display_name": "Python 3",
   "language": "python",
   "name": "python3"
  },
  "language_info": {
   "codemirror_mode": {
    "name": "ipython",
    "version": 3
   },
   "file_extension": ".py",
   "mimetype": "text/x-python",
   "name": "python",
   "nbconvert_exporter": "python",
   "pygments_lexer": "ipython3",
   "version": "3.7.1"
  }
 },
 "nbformat": 4,
 "nbformat_minor": 2
}
