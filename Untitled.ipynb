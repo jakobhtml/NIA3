{
 "cells": [
  {
   "cell_type": "code",
   "execution_count": 1,
   "metadata": {},
   "outputs": [],
   "source": [
    "import numpy as np"
   ]
  },
  {
   "cell_type": "code",
   "execution_count": null,
   "metadata": {},
   "outputs": [],
   "source": [
    "def constructSolution(pVal, dVal, numberCities, a, b):\n",
    "    \n",
    "    cities = []\n",
    "    pos = 0\n",
    "    for city in range(numberCities):\n",
    "\n",
    "            cities.append(computeProb(pos, pVal, dVal, a, b))\n",
    "        \n",
    "    while len(cities) > 0:    \n",
    "        pos = np.random.choice(len(cities), 1, cities)\n",
    "        chosenCities.append(pos)\n",
    "        \n",
    "        for city in range(numberCities):\n",
    "            cities[city] = computeProb(pos, city, pVal, dVal, a, b)\n",
    "        for city in chosenCities:\n",
    "            cities[city] = 0\n",
    "    return cities"
   ]
  },
  {
   "cell_type": "code",
   "execution_count": null,
   "metadata": {},
   "outputs": [],
   "source": [
    "def computeProb(city, pVal, dVal, a, b):\n",
    "    p = (1/computeN(pos, pVal, dVal))*((pVal[pos, city]^a)/(dVal[pos, city]^b))\n",
    "    return p"
   ]
  },
  {
   "cell_type": "code",
   "execution_count": null,
   "metadata": {},
   "outputs": [],
   "source": [
    "def computeN(pos, pVal, dVal, a, b):\n",
    "    N = 0\n",
    "    for index in range(dVal):\n",
    "        N += (pVal[pos, index]^a)/(dVal[pos, index]^b)\n",
    "    return N"
   ]
  }
 ],
 "metadata": {
  "kernelspec": {
   "display_name": "Python 3",
   "language": "python",
   "name": "python3"
  },
  "language_info": {
   "codemirror_mode": {
    "name": "ipython",
    "version": 3
   },
   "file_extension": ".py",
   "mimetype": "text/x-python",
   "name": "python",
   "nbconvert_exporter": "python",
   "pygments_lexer": "ipython3",
   "version": "3.6.8"
  }
 },
 "nbformat": 4,
 "nbformat_minor": 2
}
